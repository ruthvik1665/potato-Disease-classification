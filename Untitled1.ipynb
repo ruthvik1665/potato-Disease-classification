{
 "cells": [
  {
   "cell_type": "code",
   "execution_count": null,
   "id": "ad1e3dbc-c542-44ab-a919-8be08fa7f027",
   "metadata": {},
   "outputs": [],
   "source": []
  }
 ],
 "metadata": {
  "kernelspec": {
   "display_name": "",
   "name": ""
  },
  "language_info": {
   "name": ""
  }
 },
 "nbformat": 4,
 "nbformat_minor": 5
}
